{
    "cells": [
        {
            "metadata": {
                "collapsed": true
            },
            "cell_type": "code",
            "source": "# Business Understanding\nThe Seattle government is going to prevent avoidable car accidents by employing methods that alert drivers, health system, and police to remind them to be more careful in critical situations.\nIn most cases, not paying enough attention during driving, abusing drugs and alcohol or driving at very high speed are the main causes of occurring accidents that can be prevented by enacting harsher regulations. Besides the aforementioned reasons, weather, visibility, or road conditions are the major uncontrollable factors that can be prevented by revealing hidden patterns in the data and announcing warning to the local government, police and drivers on the targeted roads.\nThe target audience of the project is local Seattle government, police, rescue groups, and last but not least, car insurance institutes. The model and its results are going to provide some advice for the target audience to make insightful decisions for reducing the number of accidents and injuries for the city.\n",
            "execution_count": null,
            "outputs": []
        },
        {
            "metadata": {},
            "cell_type": "code",
            "source": "# Data\nThe data was collected by the Seattle Police Department and Accident Traffic Records Department from 2004 to present.\nThe data consists of 37 independent variables and 194,673 rows. The dependent variable, \u201cSEVERITYCODE\u201d, contains numbers that correspond to different levels of severity caused by an accident from 0 to 4.\nSeverity codes are as follows:\n0: Little to no Probability (Clear Conditions)\n1: Very Low Probability \u2014 Chance or Property Damage\n2: Low Probability \u2014 Chance of Injury\n3: Mild Probability \u2014 Chance of Serious Injury\n4: High Probability \u2014 Chance of Fatality\nFurthermore, because of the existence of null values in some records, the data needs to be preprocessed before any further processing.\n",
            "execution_count": null,
            "outputs": []
        },
        {
            "metadata": {},
            "cell_type": "code",
            "source": "# Data Preprocessing\nThe dataset in the original form is not ready for data analysis. In order to prepare the data, first, we need to drop the non-relevant columns. In addition, most of the features are of object data types that need to be converted into numerical data types.\nAfter analyzing the data set, I have decided to focus on only four features, severity, weather conditions, road conditions, and light conditions, among others.\n",
            "execution_count": null,
            "outputs": []
        },
        {
            "metadata": {},
            "cell_type": "code",
            "source": "# Methodology\nFor implementing the solution, I have used Github as a repository and running Jupyter Notebook to preprocess data and build Machine Learning models. Regarding coding, I have used Python and its popular packages such as Pandas, NumPy and Sklearn.\nOnce I have load data into Pandas Dataframe, used \u2018dtypes\u2019 attribute to check the feature names and their data types. Then I have selected the most important features to predict the severity of accidents in Seattle. Among all the features, the following features have the most influence in the accuracy of the predictions:\n\u201cWEATHER\u201d,\n\u201cROADCOND\u201d,\n\u201cLIGHTCOND\u201d\nAlso, as I mentioned earlier, \u201cSEVERITYCODE\u201d is the target variable.\nI have run a value count on road (\u2018ROADCOND\u2019) and weather condition (\u2018WEATHER\u2019) to get ideas of the different road and weather conditions. I also have run a value count on light condition (\u2019LIGHTCOND\u2019), to see the breakdowns of accidents occurring during the different light conditions. ",
            "execution_count": null,
            "outputs": []
        },
        {
            "metadata": {},
            "cell_type": "code",
            "source": "After standardizing the input feature, the data has been ready for building machine learning models.\nI have employed two machine learning models:\nDecision Tree\nLinear Regression\nAfter importing necessary packages and splitting preprocessed data into test and train sets, for each machine learning model, I have built and evaluated the modell.\n",
            "execution_count": null,
            "outputs": []
        },
        {
            "metadata": {},
            "cell_type": "code",
            "source": "Conclusion\nBased on the dataset provided for this capstone from weather, road, and light conditions pointing to certain classes, we can conclude that particular conditions have a somewhat impact on whether or not travel could result in property damage (class 1) or injury (class 2).",
            "execution_count": null,
            "outputs": []
        }
    ],
    "metadata": {
        "kernelspec": {
            "name": "python3",
            "display_name": "Python 3.6",
            "language": "python"
        },
        "language_info": {
            "name": "python",
            "version": "3.6.9",
            "mimetype": "text/x-python",
            "codemirror_mode": {
                "name": "ipython",
                "version": 3
            },
            "pygments_lexer": "ipython3",
            "nbconvert_exporter": "python",
            "file_extension": ".py"
        }
    },
    "nbformat": 4,
    "nbformat_minor": 1
}